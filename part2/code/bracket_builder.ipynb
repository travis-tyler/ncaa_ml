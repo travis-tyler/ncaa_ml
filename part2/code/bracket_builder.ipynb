{
 "cells": [
  {
   "cell_type": "markdown",
   "metadata": {},
   "source": [
    "# 2021 Bracket!"
   ]
  },
  {
   "cell_type": "code",
   "execution_count": 1,
   "metadata": {},
   "outputs": [],
   "source": [
    "import pandas as pd\n",
    "import numpy as np"
   ]
  },
  {
   "cell_type": "code",
   "execution_count": 2,
   "metadata": {},
   "outputs": [
    {
     "data": {
      "text/html": [
       "<div>\n",
       "<style scoped>\n",
       "    .dataframe tbody tr th:only-of-type {\n",
       "        vertical-align: middle;\n",
       "    }\n",
       "\n",
       "    .dataframe tbody tr th {\n",
       "        vertical-align: top;\n",
       "    }\n",
       "\n",
       "    .dataframe thead th {\n",
       "        text-align: right;\n",
       "    }\n",
       "</style>\n",
       "<table border=\"1\" class=\"dataframe\">\n",
       "  <thead>\n",
       "    <tr style=\"text-align: right;\">\n",
       "      <th></th>\n",
       "      <th>ID</th>\n",
       "      <th>Guess</th>\n",
       "      <th>Pred</th>\n",
       "    </tr>\n",
       "  </thead>\n",
       "  <tbody>\n",
       "    <tr>\n",
       "      <th>0</th>\n",
       "      <td>1101_1104</td>\n",
       "      <td>0</td>\n",
       "      <td>0.166</td>\n",
       "    </tr>\n",
       "    <tr>\n",
       "      <th>1</th>\n",
       "      <td>1101_1111</td>\n",
       "      <td>1</td>\n",
       "      <td>0.782</td>\n",
       "    </tr>\n",
       "    <tr>\n",
       "      <th>2</th>\n",
       "      <td>1101_1116</td>\n",
       "      <td>0</td>\n",
       "      <td>0.179</td>\n",
       "    </tr>\n",
       "    <tr>\n",
       "      <th>3</th>\n",
       "      <td>1101_1124</td>\n",
       "      <td>0</td>\n",
       "      <td>0.105</td>\n",
       "    </tr>\n",
       "    <tr>\n",
       "      <th>4</th>\n",
       "      <td>1101_1140</td>\n",
       "      <td>0</td>\n",
       "      <td>0.198</td>\n",
       "    </tr>\n",
       "    <tr>\n",
       "      <th>...</th>\n",
       "      <td>...</td>\n",
       "      <td>...</td>\n",
       "      <td>...</td>\n",
       "    </tr>\n",
       "    <tr>\n",
       "      <th>2273</th>\n",
       "      <td>1452_1457</td>\n",
       "      <td>1</td>\n",
       "      <td>0.608</td>\n",
       "    </tr>\n",
       "    <tr>\n",
       "      <th>2274</th>\n",
       "      <td>1452_1458</td>\n",
       "      <td>1</td>\n",
       "      <td>0.668</td>\n",
       "    </tr>\n",
       "    <tr>\n",
       "      <th>2275</th>\n",
       "      <td>1455_1457</td>\n",
       "      <td>0</td>\n",
       "      <td>0.398</td>\n",
       "    </tr>\n",
       "    <tr>\n",
       "      <th>2276</th>\n",
       "      <td>1455_1458</td>\n",
       "      <td>0</td>\n",
       "      <td>0.438</td>\n",
       "    </tr>\n",
       "    <tr>\n",
       "      <th>2277</th>\n",
       "      <td>1457_1458</td>\n",
       "      <td>0</td>\n",
       "      <td>0.454</td>\n",
       "    </tr>\n",
       "  </tbody>\n",
       "</table>\n",
       "<p>2278 rows × 3 columns</p>\n",
       "</div>"
      ],
      "text/plain": [
       "             ID  Guess   Pred\n",
       "0     1101_1104      0  0.166\n",
       "1     1101_1111      1  0.782\n",
       "2     1101_1116      0  0.179\n",
       "3     1101_1124      0  0.105\n",
       "4     1101_1140      0  0.198\n",
       "...         ...    ...    ...\n",
       "2273  1452_1457      1  0.608\n",
       "2274  1452_1458      1  0.668\n",
       "2275  1455_1457      0  0.398\n",
       "2276  1455_1458      0  0.438\n",
       "2277  1457_1458      0  0.454\n",
       "\n",
       "[2278 rows x 3 columns]"
      ]
     },
     "execution_count": 2,
     "metadata": {},
     "output_type": "execute_result"
    }
   ],
   "source": [
    "pred_df = pd.DataFrame(pd.read_csv('../output/ml_march_madness_submission.csv'))\n",
    "teams_df = pd.DataFrame(pd.read_csv('../resources/kaggle_data/MTeamSpellings.csv', encoding='cp1252'))\n",
    "pred_df['ID'] = pred_df.ID.str[5:]\n",
    "pred_df"
   ]
  },
  {
   "cell_type": "code",
   "execution_count": 3,
   "metadata": {},
   "outputs": [],
   "source": [
    "all_seeds ='''1. Gonzaga\n",
    "2. Baylor\n",
    "3. Illinois\n",
    "4. Michigan\n",
    "5. Alabama\n",
    "6. Ohio St.\n",
    "7. Iowa\n",
    "8. Houston\n",
    "9. Arkansas\n",
    "10. West Virginia\n",
    "11. Texas\n",
    "12. Kansas\n",
    "13. Florida St.\n",
    "14. Purdue\n",
    "15. Oklahoma St.\n",
    "16. Virginia\n",
    "17. Creighton\n",
    "18. Villanova\n",
    "19. Tennessee\n",
    "20. Colorado\n",
    "21. Southern California\n",
    "22. Texas Tech\n",
    "23. BYU\n",
    "24. San Diego St.\n",
    "25. Oregon\n",
    "26. UConn\n",
    "27. Clemson\n",
    "28. Florida\n",
    "29. LSU\n",
    "30. Loyola Chicago\n",
    "31. North Carolina\n",
    "32. Oklahoma\n",
    "33. Missouri\n",
    "34. Georgia Tech\n",
    "35. Wisconsin\n",
    "36. Maryland\n",
    "37. St. Bonaventure\n",
    "38. Virginia Tech\n",
    "39. VCU\n",
    "40. Rutgers\n",
    "41. Syracuse\n",
    "42. Utah St.\n",
    "43. Michigan St.\n",
    "44. UCLA\n",
    "45. Wichita St.\n",
    "46. Oregon St.\n",
    "47. Georgetown\n",
    "48. Drake\n",
    "49. Winthrop\n",
    "50. UC Santa Barbara\n",
    "51. Ohio\n",
    "52. North Texas\n",
    "53. Liberty\n",
    "54. UNC Greensboro\n",
    "55. Abilene Christian\n",
    "56. Morehead St.\n",
    "57. Colgate\n",
    "58. Eastern Washington\n",
    "59. Grand Canyon\n",
    "60. Cleveland St.\n",
    "61. Oral Roberts\n",
    "62. Iona\n",
    "63. Drexel\n",
    "64. Hartford\n",
    "65. Mount St. Mary’s\n",
    "66. Texas Southern\n",
    "67. Norfolk St.\n",
    "68. Appalachian St.''' "
   ]
  },
  {
   "cell_type": "code",
   "execution_count": 4,
   "metadata": {},
   "outputs": [
    {
     "data": {
      "text/plain": [
       "68"
      ]
     },
     "execution_count": 4,
     "metadata": {},
     "output_type": "execute_result"
    }
   ],
   "source": [
    "seed_list = all_seeds.split('\\n')\n",
    "seed_list2 = []\n",
    "for seed in seed_list:\n",
    "    seed = seed.split(' ',1)\n",
    "    seed_list2.append(seed[1].replace(\"'\",'').lower())\n",
    "len(seed_list2)"
   ]
  },
  {
   "cell_type": "code",
   "execution_count": 5,
   "metadata": {},
   "outputs": [],
   "source": [
    "tourney_teams = teams_df.loc[teams_df.TeamNameSpelling.isin(seed_list2)]\n",
    "# tourney_teams_list = tourney_teams.TeamNameSpelling.tolist()\n",
    "# seed_list_sorted = sorted(seed_list2)\n",
    "# list(set(seed_list_sorted) - set(tourney_teams_list))\n",
    "\n",
    "tourney_teams = tourney_teams.append(teams_df.loc[teams_df.TeamNameSpelling=='mount st. marys'])"
   ]
  },
  {
   "cell_type": "code",
   "execution_count": 6,
   "metadata": {},
   "outputs": [
    {
     "data": {
      "text/plain": [
       "'appalachian St.'"
      ]
     },
     "execution_count": 6,
     "metadata": {},
     "output_type": "execute_result"
    }
   ],
   "source": [
    "def game_predictor(team1, team2):\n",
    "    '''predicts outcome, one game at a time'''\n",
    "    team1_id = tourney_teams.loc[tourney_teams.TeamNameSpelling\\\n",
    "                                 .str.contains(team1.lower())]['TeamID'].item()\n",
    "    team2_id = tourney_teams.loc[tourney_teams.TeamNameSpelling\\\n",
    "                                 .str.contains(team2.lower())]['TeamID'].item()\n",
    "    matchup = pred_df.loc[(pred_df.ID.str.contains(str(team1_id)))&\\\n",
    "                          (pred_df.ID.str.contains(str(team2_id)))]\n",
    "    outcome = matchup.Guess.item()\n",
    "    if outcome == 1:\n",
    "        if team1_id < team2_id:\n",
    "            return team1\n",
    "        else:\n",
    "            return team2\n",
    "    else:\n",
    "        if team1_id < team2_id:\n",
    "            return team2\n",
    "        else:\n",
    "            return team2\n",
    "\n",
    "game_predictor('norfolk st.','appalachian St.')"
   ]
  },
  {
   "cell_type": "code",
   "execution_count": null,
   "metadata": {},
   "outputs": [],
   "source": []
  }
 ],
 "metadata": {
  "kernelspec": {
   "display_name": "Python 3",
   "language": "python",
   "name": "python3"
  },
  "language_info": {
   "codemirror_mode": {
    "name": "ipython",
    "version": 3
   },
   "file_extension": ".py",
   "mimetype": "text/x-python",
   "name": "python",
   "nbconvert_exporter": "python",
   "pygments_lexer": "ipython3",
   "version": "3.7.4"
  }
 },
 "nbformat": 4,
 "nbformat_minor": 2
}
